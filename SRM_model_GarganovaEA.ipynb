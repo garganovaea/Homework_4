{
 "cells": [
  {
   "cell_type": "markdown",
   "metadata": {},
   "source": [
    "## SNN model"
   ]
  },
  {
   "cell_type": "code",
   "execution_count": 43,
   "metadata": {},
   "outputs": [],
   "source": [
    "import math\n",
    "import pandas\n",
    "import numpy as np\n",
    "import functools\n",
    "import matplotlib.pyplot as plt\n",
    "import random"
   ]
  },
  {
   "cell_type": "markdown",
   "metadata": {},
   "source": [
    "### 1. Реализовать модель импульсной нейронной сети (SRM)"
   ]
  },
  {
   "cell_type": "code",
   "execution_count": 44,
   "metadata": {},
   "outputs": [],
   "source": [
    "class SRM:\n",
    "    def __init__(self, neurons, threshold, t_current, t_membrane, eta_reset, simulation_window_size=100):\n",
    "\n",
    "        threshold = np.array(threshold)\n",
    "        t_current = np.array(t_current)\n",
    "        t_membrane = np.array(t_membrane)\n",
    "        eta_reset = np.array(eta_reset)\n",
    "\n",
    "        self.neurons = neurons\n",
    "        self.threshold = threshold\n",
    "        self.t_current = t_current\n",
    "        self.t_membrane = t_membrane\n",
    "        self.eta_reset = eta_reset\n",
    "        self.simulation_window_size = simulation_window_size\n",
    "        self.cache = {}\n",
    "        self.cache['last_t'] = -1\n",
    "        self.cache['last_spike'] = np.ones(\n",
    "            self.neurons, dtype=float) * -1000000\n",
    "        self.cache['last_potential'] = np.zeros(self.neurons, dtype=float)\n",
    "\n",
    "    def eta(self, s):\n",
    "        eta_s = - self.eta_reset*np.exp(-s/self.t_membrane)\n",
    "        return eta_s\n",
    "\n",
    "    @functools.lru_cache()\n",
    "    def eps(self, s):\n",
    "        eps_s = (1/(1-self.t_current/self.t_membrane)) * \\\n",
    "            (np.exp(-s/self.t_membrane) - np.exp(-s/self.t_current))\n",
    "        return eps_s\n",
    "\n",
    "    @functools.lru_cache()\n",
    "    def eps_matrix(self, k, size):\n",
    "        matrix = np.zeros((self.neurons, size), dtype=float)\n",
    "        for i in range(k):\n",
    "            matrix[:, i] = self.eps(k-i)\n",
    "        return matrix\n",
    "\n",
    "    # Функция для изменения spiketrain во время t\n",
    "    def spikes(self, spiketrain, weights, t):\n",
    "        spiketrain_window = spiketrain[:, max(\n",
    "            0, t+1-self.simulation_window_size):t+1]\n",
    "        if self.cache['last_t'] == -1 or self.cache['last_t'] == t - 1:\n",
    "            last_spike = self.cache['last_spike']\n",
    "            last_potential = self.cache['last_potential']\n",
    "        else:\n",
    "            last_spike = t - np.argmax(spiketrain_window[:, ::-1], axis=1)\n",
    "            last_potential = np.zeros(self.neurons)\n",
    "\n",
    "        neurons, timesteps = spiketrain_window.shape\n",
    "\n",
    "        epsilon_matrix = self.eps_matrix(\n",
    "            min(self.simulation_window_size, t), timesteps)\n",
    "\n",
    "        incoming_spikes = np.dot(weights.T, spiketrain_window)\n",
    "        incoming_potential = np.sum(incoming_spikes * epsilon_matrix, axis=1)\n",
    "        total_potential = self.eta(\n",
    "            np.ones(neurons)*t - last_spike) + incoming_potential\n",
    "\n",
    "        # Новый спайк, если мембранный потенциал всех нейронов достиг treshold\n",
    "        neurons_high_current = np.where(\n",
    "            (total_potential > self.threshold) & (last_potential < self.threshold))\n",
    "        spiketrain[neurons_high_current, t] = True\n",
    "\n",
    "        # Обновляем cache\n",
    "        spiking_neurons = np.where(spiketrain[:, t])\n",
    "        self.cache['last_spike'][spiking_neurons] = t\n",
    "        self.cache['last_potential'] = total_potential\n",
    "        self.cache['last_t'] = t\n",
    "\n",
    "        return total_potential"
   ]
  },
  {
   "cell_type": "markdown",
   "metadata": {},
   "source": [
    "### Анализ\n",
    "### 1. Проверка реализации сети"
   ]
  },
  {
   "cell_type": "code",
   "execution_count": 45,
   "metadata": {},
   "outputs": [],
   "source": [
    "# Функция для генерации случайных весов между нейронами\n",
    "\n",
    "def weight(inp, out):\n",
    "    total_neuron = inp + out\n",
    "    a = np.random.uniform(0, 1, (inp, out))\n",
    "    b = np.zeros((out, out))\n",
    "    w = np.concatenate((a, b), axis=0) \n",
    "    weight = np.zeros((total_neuron, inp))\n",
    "    weight = np.concatenate((weight, w), axis=1) \n",
    "    weight = (weight + weight.T)\n",
    "    \n",
    "    return weight"
   ]
  },
  {
   "cell_type": "code",
   "execution_count": 56,
   "metadata": {
    "scrolled": true
   },
   "outputs": [],
   "source": [
    "# Функция для реализации\n",
    "\n",
    "def NNet(w_in, w_hid, w_out, sec):\n",
    "\n",
    "    # From Input to first Hidden Layer\n",
    "    neurons = input_Neuron + hidden1_Neuron\n",
    "    srm_model = SRM(neurons=neurons, threshold=1, t_current=0.3,\n",
    "                    t_membrane=20, eta_reset=5)\n",
    "    models = [srm_model]\n",
    "\n",
    "    sp = np.random.uniform(0, 1, (neurons, sec))
    "    spiketrain = np.stack([np.round(x) for x in sp], axis=0)
    "\n",
    "    for model in models:\n",
    "        neurons, timesteps = spiketrain.shape\n",
    "        for t in range(timesteps):\n",
    "            total_current_1 = model.spikes(spiketrain, w_in, t)\n",
    "\n",
    "    # From first Hidden to second Hidden Layer\n",
    "    s = spiketrain[input_Neuron:, :].copy()\n",
    "    hidden_spike = np.zeros((hidden2_Neuron, sec))\n",
    "    spiketrain_2 = np.concatenate((s, hidden_spike))\n",
    "\n",
    "    srm_model = SRM(neurons=hidden1_Neuron+hidden2_Neuron, threshold=1, t_current=0.3,\n",
    "                    t_membrane=20, eta_reset=5)\n",
    "    models = [srm_model]\n",
    "\n",
    "    for model in models:\n",
    "        neurons, timesteps = spiketrain_2.shape\n",
    "        for t in range(timesteps):\n",
    "            total_current_2 = model.spikes(spiketrain_2, w_hid, t)\n",
    "\n",
    "    # From second Hidden to Output Layer\n",
    "    s = spiketrain_2[hidden1_Neuron:, :].copy()\n",
    "    hidden_spike = np.zeros((output_Neuron, sec))\n",
    "    spiketrain_3 = np.concatenate((s, hidden_spike))\n",
    "\n",
    "    srm_model = SRM(neurons=hidden2_Neuron+output_Neuron, threshold=1, t_current=0.3,\n",
    "                    t_membrane=20, eta_reset=5)\n",
    "    models = [srm_model]\n",
    "\n",
    "    for model in models:\n",
    "        neurons, timesteps = spiketrain_3.shape\n",
    "        for t in range(timesteps):\n",
    "            total_current_3 = model.spikes(spiketrain_3, w_out, t)\n",
    "    inp_layer = spiketrain[:input_Neuron, :].copy()\n",
    "    hid_layer1 = spiketrain[input_Neuron:, :].copy()\n",
    "    hid_layer2 = spiketrain_2[hidden1_Neuron:, :].copy()\n",
    "    out_layer = spiketrain_3[hidden2_Neuron:, :].copy()\n",
    "\n",
    "    return [inp_layer.T, hid_layer1.T, hid_layer2.T, out_layer.T]"
   ]
  },
  {
   "cell_type": "code",
   "execution_count": 57,
   "metadata": {},
   "outputs": [],
   "source": [
    "# Сгенерируем три случайных паттерна возбуждения и построим нейросети\n",
    "\n",
    "input_Neuron = 5\n",
    "hidden1_Neuron = 10\n",
    "hidden2_Neuron = 20\n",
    "output_Neuron = 2\n",
    "sec = 30\n",
    "\n",
    "w_in = weight(input_Neuron, hidden1_Neuron)\n",
    "w_hid = weight(hidden1_Neuron, hidden2_Neuron)\n",
    "w_out = weight(hidden2_Neuron, output_Neuron)\n",
    "\n",
    "network1 = NNet(w_in, w_hid, w_out, sec)\n",
    "network2 = NNet(w_in, w_hid, w_out, sec)\n",
    "network3 = NNet(w_in, w_hid, w_out, sec)"
   ]
  },
  {
   "cell_type": "code",
   "execution_count": 58,
   "metadata": {},
   "outputs": [],
   "source": [
    "# Суммируем число активных нейронов в каждую секунду в каждом слое\n",
    "\n",
    "def summ_n(network, layer):\n",
    "    act = []\n",
    "    for i in range(len(network[layer])):\n",
    "        act.append(sum(network[layer][i]))\n",
    "    return act"
   ]
  },
  {
   "cell_type": "code",
   "execution_count": 59,
   "metadata": {},
   "outputs": [],
   "source": [
    "act_in1 = summ_n(network1, 0)\n",
    "act_in2 = summ_n(network2, 0)\n",
    "act_in3 = summ_n(network3, 0)\n",
    "act_in = np.array([act_in1, act_in2, act_in3]).T\n",
    "\n",
    "act_hid1 = summ_n(network1, 1)\n",
    "act_hid2 = summ_n(network2, 1)\n",
    "act_hid3 = summ_n(network3, 1)\n",
    "act_hid_1 = np.array([act_hid1, act_hid2, act_hid3]).T\n",
    "\n",
    "act_hid1 = summ_n(network1, 2)\n",
    "act_hid2 = summ_n(network2, 2)\n",
    "act_hid3 = summ_n(network3, 2)\n",
    "act_hid_2 = np.array([act_hid1, act_hid2, act_hid3]).T\n",
    "\n",
    "act_out1 = summ_n(network1, 3)\n",
    "act_out2 = summ_n(network2, 3)\n",
    "act_out3 = summ_n(network3, 3)\n",
    "act_out = np.array([act_out1, act_out2, act_out3]).T"
   ]
  },
  {
   "cell_type": "code",
   "execution_count": 60,
   "metadata": {},
   "outputs": [],
   "source": [
    "# Найдем среднее число активных нейронов для каждого слоя\n",
    "\n",
    "def mean_n(act_smth):\n",
    "    act = []\n",
    "    for i in range(len(act_smth)):\n",
    "        act.append(np.mean(act_smth[i]))\n",
    "    return act"
   ]
  },
  {
   "cell_type": "code",
   "execution_count": 61,
   "metadata": {},
   "outputs": [],
   "source": [
    "act_in = mean_n(act_in)\n",
    "act_hid_1 = mean_n(act_hid_1)\n",
    "act_hid_2 = mean_n(act_hid_2)\n",
    "act_out = mean_n(act_out)"
   ]
  },
  {
   "cell_type": "code",
   "execution_count": 62,
   "metadata": {
    "scrolled": false
   },
   "outputs": [
    {
     "data": {
      "text/plain": [
       "<matplotlib.legend.Legend at 0x7faa9ec72050>"
      ]
     },
     "execution_count": 62,
     "metadata": {},
     "output_type": "execute_result"
    },
    {
     "data": {
      "image/png": "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\n",
      "text/plain": [
       "<Figure size 432x288 with 1 Axes>"
      ]
     },
     "metadata": {
      "needs_background": "light"
     },
     "output_type": "display_data"
    }
   ],
   "source": [
    "# Рисуем графики\n",
    "\n",
    "%matplotlib inline\n",
    "\n",
    "time = range(sec)\n",
    "\n",
    "axes = plt.figure().add_axes([0, 0, 1.5, 1.5])\n",
    "\n",
    "axes.plot(time, act_in, label='Сенсорный слой (5 нейронов)')\n",
    "axes.plot(time, act_hid_1, label='Скрытый слой (10 нейронов)')\n",
    "axes.plot(time, act_hid_2, label='Скрытый слой (20 нейронов)')\n",
    "axes.plot(time, act_out, label='Выходной слой (2 нейрона)')\n",
    "\n",
    "axes.set_ylabel('Среднее число активных нейронов')\n",
    "axes.set_xlabel('Время, сек')\n",
    "\n",
    "axes.legend()\n",
    "\n",
    "# plt.savefig('mean_n' + '.jpg')"
   ]
  },
  {
   "cell_type": "code",
   "execution_count": 63,
   "metadata": {},
   "outputs": [],
   "source": [
    "# Теперь найдем самый активный нейрон\n",
    "\n",
    "def summ_n2(network, layer):\n",
    "    act = []\n",
    "    matrix = network[layer].T\n",
    "    for i in range(len(matrix)):\n",
    "        act.append(sum(matrix[i]))\n",
    "    return act\n",
    "\n",
    "act_in1 = summ_n2(network1, 0)\n",
    "act_in2 = summ_n2(network2, 0)\n",
    "act_in3 = summ_n2(network3, 0)\n",
    "act_in = np.array([act_in1, act_in2, act_in3]).T\n",
    "\n",
    "act_hid1 = summ_n2(network1, 1)\n",
    "act_hid2 = summ_n2(network2, 1)\n",
    "act_hid3 = summ_n2(network3, 1)\n",
    "act_hid_1 = np.array([act_hid1, act_hid2, act_hid3]).T\n",
    "\n",
    "act_hid1 = summ_n2(network1, 2)\n",
    "act_hid2 = summ_n2(network2, 2)\n",
    "act_hid3 = summ_n2(network3, 2)\n",
    "act_hid_2 = np.array([act_hid1, act_hid2, act_hid3]).T\n",
    "\n",
    "act_out1 = summ_n2(network1, 3)\n",
    "act_out2 = summ_n2(network2, 3)\n",
    "act_out3 = summ_n2(network3, 3)\n",
    "act_out = np.array([act_out1, act_out2, act_out3]).T"
   ]
  },
  {
   "cell_type": "code",
   "execution_count": 64,
   "metadata": {},
   "outputs": [
    {
     "data": {
      "text/plain": [
       "18.333333333333332"
      ]
     },
     "execution_count": 64,
     "metadata": {},
     "output_type": "execute_result"
    }
   ],
   "source": [
    "act_in = mean_n(act_in)\n",
    "act_hid_1 = mean_n(act_hid_1)\n",
    "act_hid_2 = mean_n(act_hid_2)\n",
    "act_out = mean_n(act_out)\n",
    "\n",
    "max(max(act_in), max(act_hid_1), max(act_hid_2), max(act_out))"
   ]
  },
  {
   "cell_type": "code",
   "execution_count": 65,
   "metadata": {},
   "outputs": [
    {
     "data": {
      "text/plain": [
       "[18.0,\n",
       " 14.666666666666666,\n",
       " 16.666666666666668,\n",
       " 17.333333333333332,\n",
       " 16.666666666666668]"
      ]
     },
     "execution_count": 65,
     "metadata": {},
     "output_type": "execute_result"
    }
   ],
   "source": [
    "act_in"
   ]
  },
  {
   "cell_type": "markdown",
   "metadata": {},
   "source": [
    "**Следовательно, в среднем самый активный нейрон это 4й нейрон сенсорного слоя. Нарисуем график спайков нейрона.**"
   ]
  },
  {
   "cell_type": "code",
   "execution_count": 66,
   "metadata": {},
   "outputs": [],
   "source": [
    "neuron_1 = network1[0].T\n",
    "neuron_1 = neuron_1[3]\n",
    "\n",
    "neuron_2 = network2[0].T\n",
    "neuron_2 = neuron_2[3]\n",
    "\n",
    "neuron_3 = network3[0].T\n",
    "neuron_3 = neuron_3[3]"
   ]
  },
  {
   "cell_type": "code",
   "execution_count": 67,
   "metadata": {},
   "outputs": [
    {
     "data": {
      "text/plain": [
       "Text(0.5, 0, 'Время, сек')"
      ]
     },
     "execution_count": 67,
     "metadata": {},
     "output_type": "execute_result"
    },
    {
     "data": {
      "image/png": "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\n",
      "text/plain": [
       "<Figure size 432x288 with 1 Axes>"
      ]
     },
     "metadata": {
      "needs_background": "light"
     },
     "output_type": "display_data"
    },
    {
     "data": {
      "image/png": "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\n",
      "text/plain": [
       "<Figure size 432x288 with 1 Axes>"
      ]
     },
     "metadata": {
      "needs_background": "light"
     },
     "output_type": "display_data"
    },
    {
     "data": {
      "image/png": "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\n",
      "text/plain": [
       "<Figure size 432x288 with 1 Axes>"
      ]
     },
     "metadata": {
      "needs_background": "light"
     },
     "output_type": "display_data"
    }
   ],
   "source": [
    "time = range(sec)\n",
    "\n",
    "axes = plt.figure().add_axes([0, 0, 0.5, 0.5])\n",
    "axes.bar(time, neuron_1)\n",
    "axes.set_title('Первая реализация') \n",
    "axes.set_ylabel('Спайки самого активного нейрона')\n",
    "axes.set_xlabel('Время, сек')\n",
    "\n",
    "\n",
    "axes = plt.figure().add_axes([0, 0, 0.5, 0.5])\n",
    "axes.bar(time, neuron_2)\n",
    "axes.set_title('Вторая реализация') \n",
    "axes.set_ylabel('Спайки самого активного нейрона')\n",
    "axes.set_xlabel('Время, сек')\n",
    "\n",
    "\n",
    "axes = plt.figure().add_axes([0, 0, 0.5, 0.5])\n",
    "axes.bar(time, neuron_3)\n",
    "axes.set_title('Третья реализация') \n",
    "axes.set_ylabel('Спайки самого активного нейрона')\n",
    "axes.set_xlabel('Время, сек')"
   ]
  },
  {
   "cell_type": "markdown",
   "metadata": {},
   "source": [
    "### 2. STDP (Unsupervised Learning) обучение без учителя на датасете MNIST\n",
    "Теперь зададим веса не случайно, а обучившись на данных с помощью STDP  \n",
    "The MNIST dataset: http://yann.lecun.com/exdb/mnist/  \n",
    "28 x 28 pixel images of a single digit (0 to 9)"
   ]
  },
  {
   "cell_type": "code",
   "execution_count": 68,
   "metadata": {},
   "outputs": [],
   "source": [
    "class STDP:\n",
    "    \n",
    "    def __init__(self, eta, w_in, w_out, tau, window_size):\n",
    "        \n",
    "        self.eta = eta\n",
    "        self.w_in = w_in\n",
    "        self.w_out = w_out\n",
    "        self.tau = tau\n",
    "        self.window_size = window_size\n",
    "\n",
    "    def learning_window_neuron_pre(self, t1, t2_list):\n",
    "        sum_result = 0\n",
    "        for t2 in t2_list:\n",
    "            sum_result += self.learning_window(t2 - t1)\n",
    "        return sum_result\n",
    "\n",
    "    def learning_window_neuron_post(self, t1, t2_list):\n",
    "        sum_result = 0\n",
    "        for t2 in t2_list:\n",
    "            sum_result += self.learning_window(t1 - t2)\n",
    "        return sum_result\n",
    "\n",
    "    def learning_window(self, x):\n",
    "        if x > 0:\n",
    "            return - np.exp(-x / self.tau)\n",
    "        elif x < 0:\n",
    "            return np.exp(x / self.tau)\n",
    "        else:\n",
    "            return 0\n",
    "\n",
    "    def weight_change(self, spikes, weights, t):\n",
    "        \n",
    "        spikes = spikes[:, max(0, t+1-self.window_size):t+1]\n",
    "\n",
    "        if not spikes.any():\n",
    "            return np.zeros(weights.shape)\n",
    "\n",
    "        neurons, current_time = spikes.shape\n",
    "        current_time -= 1\n",
    "\n",
    "        connected_neurons = np.array(weights, dtype=bool)\n",
    "\n",
    "        last_spikes = spikes[:, -1]\n",
    "        last_spikes = last_spikes[:, np.newaxis]\n",
    "\n",
    "        weight_change_presynaptic = last_spikes * connected_neurons * self.w_in\n",
    "\n",
    "        weight_change_postsynaptic = last_spikes.T * connected_neurons * self.w_out\n",
    "\n",
    "        spikes_time = []\n",
    "        for neuron in range(neurons):\n",
    "            spikes_time.append([])\n",
    "            for time, spike in enumerate(spikes[neuron, :]):\n",
    "                if spike:\n",
    "                    spikes_time[neuron].append(time)\n",
    "\n",
    "        neuron_learnwindow_pre = [self.learning_window_neuron_pre(current_time, x) for x in spikes_time]\n",
    "        neuron_learnwindow_pre = np.array(neuron_learnwindow_pre, ndmin=2).T\n",
    "\n",
    "        neuron_learnwindow_post = [self.learning_window_neuron_post(current_time, x) for x in spikes_time]\n",
    "        neuron_learnwindow_post = np.array(neuron_learnwindow_post, ndmin=2).T\n",
    "\n",
    "        learning_window_presynaptic = (last_spikes.T * connected_neurons) * neuron_learnwindow_pre\n",
    "        learning_window_postsynaptic = (last_spikes * connected_neurons) * neuron_learnwindow_post.T\n",
    "\n",
    "        # Меняем веса\n",
    "        weight_change = self.eta * (weight_change_presynaptic + weight_change_postsynaptic + learning_window_presynaptic\n",
    "                               + learning_window_postsynaptic)\n",
    "\n",
    "        weights = weights.__iadd__(weight_change)\n",
    "\n",
    "        return weight_change"
   ]
  },
  {
   "cell_type": "code",
   "execution_count": 69,
   "metadata": {},
   "outputs": [],
   "source": [
    "# Найдем spiketrains\n",
    "import imageio\n",
    "\n",
    "img = imageio.imread(\"/Users/elizaveta/Desktop/1.png\") # Цифра 1\n",
    "\n",
    "spiketrains = []\n",
    "for p in img.flatten():\n",
    "    bins = int(10)\n",
    "    spiketrain = []\n",
    "    for j in range(256+128):\n",
    "        spike = []\n",
    "        for i in range(bins):\n",
    "            if p <= 126:\n",
    "                spike.append(0)  # spike\n",
    "            elif p < 255:\n",
    "                spike.append(random.randint(0,1))\n",
    "            elif p == 255:\n",
    "                spike.append(1)\n",
    "        spiketrain.append(spike)\n",
    "    spiketrains.append(spiketrain)"
   ]
  },
  {
   "cell_type": "code",
   "execution_count": 70,
   "metadata": {
    "scrolled": true
   },
   "outputs": [],
   "source": [
    "input_Neuron = 256\n",
    "hidden1_Neuron = 128\n",
    "hidden2_Neuron = 64\n",
    "output_Neuron = 10\n",
    "sec = 30\n",
    "\n",
    "w_inp = weight(input_Neuron, hidden1_Neuron)"
   ]
  },
  {
   "cell_type": "code",
   "execution_count": 71,
   "metadata": {},
   "outputs": [],
   "source": [
    "learning = STDP(eta=0.05, w_in=0.5, w_out=0.5, tau=10.0, window_size=4)\n",
    "changes = []\n",
    "for i in range(784):\n",
    "    changes.append(learning.weight_change(np.array(spiketrains[i]), w_inp, 2))"
   ]
  },
  {
   "cell_type": "code",
   "execution_count": 72,
   "metadata": {
    "scrolled": true
   },
   "outputs": [
    {
     "data": {
      "text/plain": [
       "array([[0.        , 0.        , 0.        , ..., 2.36132367, 2.58898935,\n",
       "        2.74763748],\n",
       "       [0.        , 0.        , 0.        , ..., 2.69516183, 2.42210015,\n",
       "        3.22349033],\n",
       "       [0.        , 0.        , 0.        , ..., 2.63598052, 1.42232811,\n",
       "        3.04312864],\n",
       "       ...,\n",
       "       [2.18035618, 2.86751865, 2.50244344, ..., 0.        , 0.        ,\n",
       "        0.        ],\n",
       "       [2.34337012, 2.57723563, 2.12036604, ..., 0.        , 0.        ,\n",
       "        0.        ],\n",
       "       [1.22225813, 2.55989506, 2.31488163, ..., 0.        , 0.        ,\n",
       "        0.        ]])"
      ]
     },
     "execution_count": 72,
     "metadata": {},
     "output_type": "execute_result"
    }
   ],
   "source": [
    "w_inp # Новые веса, которые можно использовать для SRM"
   ]
  },
  {
   "cell_type": "code",
   "execution_count": 74,
   "metadata": {},
   "outputs": [],
   "source": [
    "w_hid = weight(hidden1_Neuron, hidden2_Neuron)\n",
    "w_out = weight(hidden2_Neuron, output_Neuron)\n",
    "\n",
    "network = NNet(w_inp, w_hid, w_out, sec)"
   ]
  },
  {
   "cell_type": "markdown",
   "metadata": {},
   "source": [
    "### 3. Reinforcement Learning"
   ]
  },
  {
   "cell_type": "code",
   "execution_count": null,
   "metadata": {},
   "outputs": [],
   "source": [
    "class reward(SRM):\n",
    "    def __init__(self, num_input, hidden_layers, num_output, neuron_class, learning_method, reward_controller):\n",
    "        super(self.__class__, self).__init__(num_input, hidden_layers,\n",
    "                                             num_output, neuron_class, learning_method)\n",
    "        self.reward_controller = reward_controller\n",
    "\n",
    "    def solve(self, input, individual):\n",
    "        previous_layer = np.array(input)\n",
    "        for (i, layer) in enumerate(self.layers):\n",
    "            new_previous_layer = np.array([])\n",
    "            for neuron in layer:\n",
    "                neuron.reward = self.reward_controller(individual)\n",
    "                new_previous_layer = np.append(\n",
    "                    new_previous_layer, neuron.solve(previous_layer))\n",
    "            previous_layer = new_previous_layer\n",
    "        self.adjust_weights()\n",
    "        return previous_layer"
   ]
  },
  {
   "cell_type": "markdown",
   "metadata": {},
   "source": [
    "### 3. Обучение без учителя и точность полученной модели"
   ]
  },
  {
   "cell_type": "code",
   "execution_count": null,
   "metadata": {},
   "outputs": [],
   "source": []
  }
 ],
 "metadata": {
  "kernelspec": {
   "display_name": "Python 3",
   "language": "python",
   "name": "python3"
  },
  "language_info": {
   "codemirror_mode": {
    "name": "ipython",
    "version": 3
   },
   "file_extension": ".py",
   "mimetype": "text/x-python",
   "name": "python",
   "nbconvert_exporter": "python",
   "pygments_lexer": "ipython3",
   "version": "3.7.4"
  }
 },
 "nbformat": 4,
 "nbformat_minor": 2
}
