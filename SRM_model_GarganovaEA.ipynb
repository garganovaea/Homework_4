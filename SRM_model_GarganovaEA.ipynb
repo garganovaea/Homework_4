{
 "cells": [
  {
   "cell_type": "markdown",
   "metadata": {},
   "source": [
    "## SNN model"
   ]
  },
  {
   "cell_type": "code",
   "execution_count": 3,
   "metadata": {},
   "outputs": [],
   "source": [
    "import math\n",
    "import pandas\n",
    "import numpy as np\n",
    "import functools\n",
    "import matplotlib.pyplot as plt\n",
    "import random\n",
    "# from decimal import *"
   ]
  },
  {
   "cell_type": "markdown",
   "metadata": {},
   "source": [
    "### 1. Реализовать модель импульсной нейронной сети (SRM)"
   ]
  },
  {
   "cell_type": "code",
   "execution_count": 76,
   "metadata": {},
   "outputs": [],
   "source": [
    "class SRM:\n",
    "    def __init__(self, neurons, threshold, t_current, t_membrane, eta_reset, simulation_window_size=100):\n",
    "\n",
    "        threshold = np.array(threshold)\n",
    "        t_current = np.array(t_current)\n",
    "        t_membrane = np.array(t_membrane)\n",
    "        eta_reset = np.array(eta_reset)\n",
    "\n",
    "        self.neurons = neurons\n",
    "        self.threshold = threshold\n",
    "        self.t_current = t_current\n",
    "        self.t_membrane = t_membrane\n",
    "        self.eta_reset = eta_reset\n",
    "        self.simulation_window_size = simulation_window_size\n",
    "        self.cache = {}\n",
    "        self.cache['last_t'] = -1\n",
    "        self.cache['last_spike'] = np.ones(\n",
    "            self.neurons, dtype=float) * -1000000\n",
    "        self.cache['last_potential'] = np.zeros(self.neurons, dtype=float)\n",
    "\n",
    "    def eta(self, s):\n",
    "        eta_s = - self.eta_reset*np.exp(-s/self.t_membrane)\n",
    "        return eta_s\n",
    "\n",
    "    @functools.lru_cache()\n",
    "    def eps(self, s):\n",
    "        eps_s = (1/(1-self.t_current/self.t_membrane)) * \\\n",
    "            (np.exp(-s/self.t_membrane) - np.exp(-s/self.t_current))\n",
    "        return eps_s\n",
    "\n",
    "    @functools.lru_cache()\n",
    "    def eps_matrix(self, k, size):\n",
    "        matrix = np.zeros((self.neurons, size), dtype=float)\n",
    "        for i in range(k):\n",
    "            matrix[:, i] = self.eps(k-i)\n",
    "        return matrix\n",
    "\n",
    "    # Функция для изменения spiketrain во время t\n",
    "    def spikes(self, spiketrain, weights, t):\n",
    "        spiketrain_window = spiketrain[:, max(\n",
    "            0, t+1-self.simulation_window_size):t+1]\n",
    "        if self.cache['last_t'] == -1 or self.cache['last_t'] == t - 1:\n",
    "            last_spike = self.cache['last_spike']\n",
    "            last_potential = self.cache['last_potential']\n",
    "        else:\n",
    "            last_spike = t - np.argmax(spiketrain_window[:, ::-1], axis=1)\n",
    "            last_potential = np.zeros(self.neurons)\n",
    "\n",
    "        neurons, timesteps = spiketrain_window.shape\n",
    "\n",
    "        epsilon_matrix = self.eps_matrix(\n",
    "            min(self.simulation_window_size, t), timesteps)\n",
    "\n",
    "        incoming_spikes = np.dot(weights.T, spiketrain_window)\n",
    "        incoming_potential = np.sum(incoming_spikes * epsilon_matrix, axis=1)\n",
    "        total_potential = self.eta(\n",
    "            np.ones(neurons)*t - last_spike) + incoming_potential\n",
    "\n",
    "        # Новый спайк, если мембранный потенциал всех нейронов достиг treshold\n",
    "        neurons_high_current = np.where(\n",
    "            (total_potential > self.threshold) & (last_potential < self.threshold))\n",
    "        spiketrain[neurons_high_current, t] = True\n",
    "\n",
    "        # Обновляем cache\n",
    "        spiking_neurons = np.where(spiketrain[:, t])\n",
    "        self.cache['last_spike'][spiking_neurons] = t\n",
    "        self.cache['last_potential'] = total_potential\n",
    "        self.cache['last_t'] = t\n",
    "\n",
    "        return total_potential"
   ]
  },
  {
   "cell_type": "markdown",
   "metadata": {},
   "source": [
    "### Анализ\n",
    "### 1. Проверка реализации сети"
   ]
  },
  {
   "cell_type": "code",
   "execution_count": 6,
   "metadata": {},
   "outputs": [],
   "source": [
    "# Функция для генерации случайных весов между нейронами\n",
    "\n",
    "def weight(inp, out):\n",
    "    total_neuron = inp + out\n",
    "    a = np.random.uniform(0, 1, (inp, out))\n",
    "    b = np.zeros((out, out))\n",
    "    w = np.concatenate((a, b), axis=0) \n",
    "    weight = np.zeros((total_neuron, inp))\n",
    "    weight = np.concatenate((weight, w), axis=1) \n",
    "    weight = (weight + weight.T)\n",
    "    \n",
    "    return weight"
   ]
  },
  {
   "cell_type": "code",
   "execution_count": 33,
   "metadata": {
    "scrolled": true
   },
   "outputs": [],
   "source": [
    "# Функция для реализации\n",
    "\n",
    "def NNet(w_in, w_hid, w_out, sec, fr):\n",
    "\n",
    "    # From Input to first Hidden Layer\n",
    "    neurons = input_Neuron + hidden1_Neuron\n",
    "    srm_model = SRM(neurons=neurons, threshold=1, t_current=0.3,\n",
    "                    t_membrane=20, eta_reset=5)\n",
    "    models = [srm_model]\n",
    "\n",
    "    dt = random.randint(1, 5)  # Случайное значение задержки в секундах от 1 до 5 \n",
    "    \n",
    "    # Генерируем spiketrain\n",
    "    bins = int(sec / dt)\n",
    "    spiketrain = []\n",
    "    for j in range(neurons):\n",
    "        spike = []\n",
    "        for i in range(bins):\n",
    "            p = random.random()\n",
    "            if p <= fr * dt:\n",
    "                spike.append(1) # spike\n",
    "            else:\n",
    "                spike.append(0)\n",
    "        spiketrain.append(spike)\n",
    "\n",
    "\n",
    "    for model in models:\n",
    "        neurons, timesteps = spiketrain.shape\n",
    "        for t in range(timesteps):\n",
    "            total_current_1 = model.spikes(spiketrain, w_in, t)\n",
    "\n",
    "    # From first Hidden to second Hidden Layer\n",
    "    s = spiketrain[input_Neuron:, :].copy()\n",
    "    hidden_spike = np.zeros((hidden2_Neuron, sec))\n",
    "    spiketrain_2 = np.concatenate((s, hidden_spike))\n",
    "\n",
    "    srm_model = SRM(neurons=hidden1_Neuron+hidden2_Neuron, threshold=1, t_current=0.3,\n",
    "                    t_membrane=20, eta_reset=5)\n",
    "    models = [srm_model]\n",
    "\n",
    "    for model in models:\n",
    "        neurons, timesteps = spiketrain_2.shape\n",
    "        for t in range(timesteps):\n",
    "            total_current_2 = model.spikes(spiketrain_2, w_hid, t)\n",
    "\n",
    "    # From second Hidden to Output Layer\n",
    "    s = spiketrain_2[hidden1_Neuron:, :].copy()\n",
    "    hidden_spike = np.zeros((output_Neuron, sec))\n",
    "    spiketrain_3 = np.concatenate((s, hidden_spike))\n",
    "\n",
    "    srm_model = SRM(neurons=hidden2_Neuron+output_Neuron, threshold=1, t_current=0.3,\n",
    "                    t_membrane=20, eta_reset=5)\n",
    "    models = [srm_model]\n",
    "\n",
    "    for model in models:\n",
    "        neurons, timesteps = spiketrain_3.shape\n",
    "        for t in range(timesteps):\n",
    "            total_current_3 = model.spikes(spiketrain_3, w_out, t)\n",
    "    inp_layer = spiketrain[:input_Neuron, :].copy()\n",
    "    hid_layer1 = spiketrain[input_Neuron:, :].copy()\n",
    "    hid_layer2 = spiketrain_2[hidden1_Neuron:, :].copy()\n",
    "    out_layer = spiketrain_3[hidden2_Neuron:, :].copy()\n",
    "\n",
    "    return [inp_layer.T, hid_layer1.T, hid_layer2.T, out_layer.T]"
   ]
  },
  {
   "cell_type": "code",
   "execution_count": 266,
   "metadata": {},
   "outputs": [],
   "source": [
    "# Сгенерируем три случайных паттерна возбуждения и построим нейросети\n",
    "\n",
    "input_Neuron = 5\n",
    "hidden1_Neuron = 10\n",
    "hidden2_Neuron = 20\n",
    "output_Neuron = 2\n",
    "sec = 30\n",
    "fr = 80\n",
    "\n",
    "w_in = weight(input_Neuron, hidden1_Neuron)\n",
    "w_hid = weight(hidden1_Neuron, hidden2_Neuron)\n",
    "w_out = weight(hidden2_Neuron, output_Neuron)\n",
    "\n",
    "network1 = NNet(w_in, w_hid, w_out, sec, fr)\n",
    "network2 = NNet(w_in, w_hid, w_out, sec, fr)\n",
    "network3 = NNet(w_in, w_hid, w_out, sec, fr)"
   ]
  },
  {
   "cell_type": "code",
   "execution_count": 267,
   "metadata": {},
   "outputs": [],
   "source": [
    "# Суммируем число активных нейронов в каждую секунду в каждом слое\n",
    "\n",
    "def summ_n(network, layer):\n",
    "    act = []\n",
    "    for i in range(len(network[layer])):\n",
    "        act.append(sum(network[layer][i]))\n",
    "    return act"
   ]
  },
  {
   "cell_type": "code",
   "execution_count": 268,
   "metadata": {},
   "outputs": [],
   "source": [
    "act_in1 = summ_n(network1, 0)\n",
    "act_in2 = summ_n(network2, 0)\n",
    "act_in3 = summ_n(network3, 0)\n",
    "act_in = np.array([act_in1, act_in2, act_in3]).T\n",
    "\n",
    "act_hid1 = summ_n(network1, 1)\n",
    "act_hid2 = summ_n(network2, 1)\n",
    "act_hid3 = summ_n(network3, 1)\n",
    "act_hid_1 = np.array([act_hid1, act_hid2, act_hid3]).T\n",
    "\n",
    "act_hid1 = summ_n(network1, 2)\n",
    "act_hid2 = summ_n(network2, 2)\n",
    "act_hid3 = summ_n(network3, 2)\n",
    "act_hid_2 = np.array([act_hid1, act_hid2, act_hid3]).T\n",
    "\n",
    "act_out1 = summ_n(network1, 3)\n",
    "act_out2 = summ_n(network2, 3)\n",
    "act_out3 = summ_n(network3, 3)\n",
    "act_out = np.array([act_out1, act_out2, act_out3]).T"
   ]
  },
  {
   "cell_type": "code",
   "execution_count": 269,
   "metadata": {},
   "outputs": [],
   "source": [
    "# Найдем среднее число активных нейронов для каждого слоя\n",
    "\n",
    "def mean_n(act_smth):\n",
    "    act = []\n",
    "    for i in range(len(act_smth)):\n",
    "        act.append(np.mean(act_smth[i]))\n",
    "    return act"
   ]
  },
  {
   "cell_type": "code",
   "execution_count": 270,
   "metadata": {},
   "outputs": [],
   "source": [
    "act_in = mean_n(act_in)\n",
    "act_hid_1 = mean_n(act_hid_1)\n",
    "act_hid_2 = mean_n(act_hid_2)\n",
    "act_out = mean_n(act_out)"
   ]
  },
  {
   "cell_type": "code",
   "execution_count": 271,
   "metadata": {
    "scrolled": false
   },
   "outputs": [
    {
     "data": {
      "text/plain": [
       "<matplotlib.legend.Legend at 0x7fc2ab45dfd0>"
      ]
     },
     "execution_count": 271,
     "metadata": {},
     "output_type": "execute_result"
    },
    {
     "data": {
      "image/png": "[encoded data removed]",
      "text/plain": [
       "<Figure size 432x288 with 1 Axes>"
      ]
     },
     "metadata": {
      "needs_background": "light"
     },
     "output_type": "display_data"
    }
   ],
   "source": [
    "# Рисуем графики\n",
    "\n",
    "%matplotlib inline\n",
    "\n",
    "time = range(sec)\n",
    "\n",
    "axes = plt.figure().add_axes([0, 0, 1.5, 1.5])\n",
    "\n",
    "axes.plot(time, act_in, label='Сенсорный слой (5 нейронов)')\n",
    "axes.plot(time, act_hid_1, label='Скрытый слой (10 нейронов)')\n",
    "axes.plot(time, act_hid_2, label='Скрытый слой (20 нейронов)')\n",
    "axes.plot(time, act_out, label='Выходной слой (2 нейрона)')\n",
    "\n",
    "axes.set_ylabel('Среднее число активных нейронов')\n",
    "axes.set_xlabel('Время, сек')\n",
    "\n",
    "axes.legend()\n",
    "\n",
    "# plt.savefig('mean_n' + '.jpg')"
   ]
  },
  {
   "cell_type": "code",
   "execution_count": 297,
   "metadata": {},
   "outputs": [],
   "source": [
    "# Теперь найдем самый активный нейрон\n",
    "\n",
    "def summ_n2(network, layer):\n",
    "    act = []\n",
    "    matrix = network[layer].T\n",
    "    for i in range(len(matrix)):\n",
    "        act.append(sum(matrix[i]))\n",
    "    return act\n",
    "\n",
    "act_in1 = summ_n2(network1, 0)\n",
    "act_in2 = summ_n2(network2, 0)\n",
    "act_in3 = summ_n2(network3, 0)\n",
    "act_in = np.array([act_in1, act_in2, act_in3]).T\n",
    "\n",
    "act_hid1 = summ_n2(network1, 1)\n",
    "act_hid2 = summ_n2(network2, 1)\n",
    "act_hid3 = summ_n2(network3, 1)\n",
    "act_hid_1 = np.array([act_hid1, act_hid2, act_hid3]).T\n",
    "\n",
    "act_hid1 = summ_n2(network1, 2)\n",
    "act_hid2 = summ_n2(network2, 2)\n",
    "act_hid3 = summ_n2(network3, 2)\n",
    "act_hid_2 = np.array([act_hid1, act_hid2, act_hid3]).T\n",
    "\n",
    "act_out1 = summ_n2(network1, 3)\n",
    "act_out2 = summ_n2(network2, 3)\n",
    "act_out3 = summ_n2(network3, 3)\n",
    "act_out = np.array([act_out1, act_out2, act_out3]).T"
   ]
  },
  {
   "cell_type": "code",
   "execution_count": 298,
   "metadata": {},
   "outputs": [
    {
     "data": {
      "text/plain": [
       "18.333333333333332"
      ]
     },
     "execution_count": 298,
     "metadata": {},
     "output_type": "execute_result"
    }
   ],
   "source": [
    "act_in = mean_n(act_in)\n",
    "act_hid_1 = mean_n(act_hid_1)\n",
    "act_hid_2 = mean_n(act_hid_2)\n",
    "act_out = mean_n(act_out)\n",
    "\n",
    "max(max(act_in), max(act_hid_1), max(act_hid_2), max(act_out))"
   ]
  },
  {
   "cell_type": "code",
   "execution_count": 299,
   "metadata": {},
   "outputs": [
    {
     "data": {
      "text/plain": [
       "[16.0, 17.0, 15.666666666666666, 18.333333333333332, 15.333333333333334]"
      ]
     },
     "execution_count": 299,
     "metadata": {},
     "output_type": "execute_result"
    }
   ],
   "source": [
    "act_in"
   ]
  },
  {
   "cell_type": "markdown",
   "metadata": {},
   "source": [
    "**Следовательно, в среднем самый активный нейрон это 4й нейрон сенсорного слоя. Нарисуем график спайков нейрона.**"
   ]
  },
  {
   "cell_type": "code",
   "execution_count": 321,
   "metadata": {},
   "outputs": [],
   "source": [
    "neuron_1 = network1[0].T\n",
    "neuron_1 = neuron_1[3]\n",
    "\n",
    "neuron_2 = network2[0].T\n",
    "neuron_2 = neuron_2[3]\n",
    "\n",
    "neuron_3 = network3[0].T\n",
    "neuron_3 = neuron_3[3]"
   ]
  },
  {
   "cell_type": "code",
   "execution_count": 324,
   "metadata": {},
   "outputs": [
    {
     "data": {
      "text/plain": [
       "Text(0.5, 0, 'Время, сек')"
      ]
     },
     "execution_count": 324,
     "metadata": {},
     "output_type": "execute_result"
    },
    {
     "data": {
      "image/png": "[encoded data removed]",
      "text/plain": [
       "<Figure size 432x288 with 1 Axes>"
      ]
     },
     "metadata": {
      "needs_background": "light"
     },
     "output_type": "display_data"
    },
    {
     "data": {
      "image/png": "[encoded data removed]",
      "text/plain": [
       "<Figure size 432x288 with 1 Axes>"
      ]
     },
     "metadata": {
      "needs_background": "light"
     },
     "output_type": "display_data"
    },
    {
     "data": {
      "image/png": "[encoded data removed]",
      "text/plain": [
       "<Figure size 432x288 with 1 Axes>"
      ]
     },
     "metadata": {
      "needs_background": "light"
     },
     "output_type": "display_data"
    }
   ],
   "source": [
    "time = range(sec)\n",
    "\n",
    "axes = plt.figure().add_axes([0, 0, 0.5, 0.5])\n",
    "axes.bar(time, neuron_1)\n",
    "axes.set_title('Первая реализация') \n",
    "axes.set_ylabel('Спайки самого активного нейрона')\n",
    "axes.set_xlabel('Время, сек')\n",
    "\n",
    "\n",
    "axes = plt.figure().add_axes([0, 0, 0.5, 0.5])\n",
    "axes.bar(time, neuron_2)\n",
    "axes.set_title('Вторая реализация') \n",
    "axes.set_ylabel('Спайки самого активного нейрона')\n",
    "axes.set_xlabel('Время, сек')\n",
    "\n",
    "\n",
    "axes = plt.figure().add_axes([0, 0, 0.5, 0.5])\n",
    "axes.bar(time, neuron_3)\n",
    "axes.set_title('Третья реализация') \n",
    "axes.set_ylabel('Спайки самого активного нейрона')\n",
    "axes.set_xlabel('Время, сек')"
   ]
  },
  {
   "cell_type": "markdown",
   "metadata": {},
   "source": [
    "### 2. STDP (Unsupervised Learning) обучение без учителя на датасете MNIST\n",
    "Теперь зададим веса не случайно, а обучившись на данных с помощью STDP  \n",
    "The MNIST dataset: http://yann.lecun.com/exdb/mnist/  \n",
    "28 x 28 pixel images of a single digit (0 to 9)"
   ]
  },
  {
   "cell_type": "code",
   "execution_count": 17,
   "metadata": {},
   "outputs": [],
   "source": [
    "class STDP:\n",
    "    \n",
    "    def __init__(self, eta, w_in, w_out, tau, window_size):\n",
    "        \n",
    "        self.eta = eta\n",
    "        self.w_in = w_in\n",
    "        self.w_out = w_out\n",
    "        self.tau = tau\n",
    "        self.window_size = window_size\n",
    "\n",
    "    def learning_window_neuron_pre(self, t1, t2_list):\n",
    "        sum_result = 0\n",
    "        for t2 in t2_list:\n",
    "            sum_result += self.learning_window(t2 - t1)\n",
    "        return sum_result\n",
    "\n",
    "    def learning_window_neuron_post(self, t1, t2_list):\n",
    "        sum_result = 0\n",
    "        for t2 in t2_list:\n",
    "            sum_result += self.learning_window(t1 - t2)\n",
    "        return sum_result\n",
    "\n",
    "    def learning_window(self, x):\n",
    "        if x > 0:\n",
    "            return - np.exp(-x / self.tau)\n",
    "        elif x < 0:\n",
    "            return np.exp(x / self.tau)\n",
    "        else:\n",
    "            return 0\n",
    "\n",
    "    def weight_change(self, spikes, weights, t):\n",
    "        \n",
    "        spikes = spikes[:, max(0, t+1-self.window_size):t+1]\n",
    "\n",
    "        if not spikes.any():\n",
    "            return np.zeros(weights.shape)\n",
    "\n",
    "        neurons, current_time = spikes.shape\n",
    "        current_time -= 1\n",
    "\n",
    "        connected_neurons = np.array(weights, dtype=bool)\n",
    "\n",
    "        last_spikes = spikes[:, -1]\n",
    "        last_spikes = last_spikes[:, np.newaxis]\n",
    "\n",
    "        weight_change_presynaptic = last_spikes * connected_neurons * self.w_in\n",
    "\n",
    "        weight_change_postsynaptic = last_spikes.T * connected_neurons * self.w_out\n",
    "\n",
    "        spikes_time = []\n",
    "        for neuron in range(neurons):\n",
    "            spikes_time.append([])\n",
    "            for time, spike in enumerate(spikes[neuron, :]):\n",
    "                if spike:\n",
    "                    spikes_time[neuron].append(time)\n",
    "\n",
    "        neuron_learnwindow_pre = [self.learning_window_neuron_pre(current_time, x) for x in spikes_time]\n",
    "        neuron_learnwindow_pre = np.array(neuron_learnwindow_pre, ndmin=2).T\n",
    "\n",
    "        neuron_learnwindow_post = [self.learning_window_neuron_post(current_time, x) for x in spikes_time]\n",
    "        neuron_learnwindow_post = np.array(neuron_learnwindow_post, ndmin=2).T\n",
    "\n",
    "        learning_window_presynaptic = (last_spikes.T * connected_neurons) * neuron_learnwindow_pre\n",
    "        learning_window_postsynaptic = (last_spikes * connected_neurons) * neuron_learnwindow_post.T\n",
    "\n",
    "        # Меняем веса\n",
    "        weight_change = self.eta * (weight_change_presynaptic + weight_change_postsynaptic + learning_window_presynaptic\n",
    "                               + learning_window_postsynaptic)\n",
    "\n",
    "        weights = weights.__iadd__(weight_change)\n",
    "\n",
    "        return weight_change"
   ]
  },
  {
   "cell_type": "code",
   "execution_count": 26,
   "metadata": {},
   "outputs": [],
   "source": [
    "# Найдем spiketrains\n",
    "import imageio\n",
    "\n",
    "img = imageio.imread(\"/Users/elizaveta/Desktop/1.png\")\n",
    "\n",
    "spiketrains = []\n",
    "for p in img.flatten():\n",
    "    bins = int(10)\n",
    "    spiketrain = []\n",
    "    for j in range(256+128):\n",
    "        spike = []\n",
    "        for i in range(bins):\n",
    "            if p <= 126:\n",
    "                spike.append(0)  # spike\n",
    "            elif p < 255:\n",
    "                spike.append(random.randint(0,1))\n",
    "            elif p == 255:\n",
    "                spike.append(1)\n",
    "        spiketrain.append(spike)\n",
    "    spiketrains.append(spiketrain)"
   ]
  },
  {
   "cell_type": "code",
   "execution_count": 27,
   "metadata": {
    "scrolled": true
   },
   "outputs": [],
   "source": [
    "input_Neuron = 256\n",
    "hidden1_Neuron = 128\n",
    "hidden2_Neuron = 64\n",
    "output_Neuron = 10\n",
    "sec = 30\n",
    "\n",
    "w_inp = weight(input_Neuron, hidden1_Neuron)"
   ]
  },
  {
   "cell_type": "code",
   "execution_count": 28,
   "metadata": {},
   "outputs": [],
   "source": [
    "learning = STDP(eta=0.05, w_in=1, w_out=1, tau=10.0, window_size=4)\n",
    "changes = []\n",
    "for i in range(784):\n",
    "    changes.append(learning.weight_change(np.array(spiketrains[i]), w_inp, 2))"
   ]
  },
  {
   "cell_type": "code",
   "execution_count": 29,
   "metadata": {},
   "outputs": [
    {
     "data": {
      "text/plain": [
       "array([[0.        , 0.        , 0.        , ..., 3.73674456, 3.97314765,\n",
       "        4.1439573 ],\n",
       "       [0.        , 0.        , 0.        , ..., 3.92282372, 4.36126071,\n",
       "        5.08080761],\n",
       "       [0.        , 0.        , 0.        , ..., 3.23313369, 4.00774663,\n",
       "        4.18580056],\n",
       "       ...,\n",
       "       [3.54716641, 3.12569137, 3.8881183 , ..., 0.        , 0.        ,\n",
       "        0.        ],\n",
       "       [3.08553157, 2.71095495, 4.35246026, ..., 0.        , 0.        ,\n",
       "        0.        ],\n",
       "       [3.29939455, 3.83986723, 4.26767364, ..., 0.        , 0.        ,\n",
       "        0.        ]])"
      ]
     },
     "execution_count": 29,
     "metadata": {},
     "output_type": "execute_result"
    }
   ],
   "source": [
    "w_inp # Новые веса, которые можно использовать для SRM"
   ]
  },
  {
   "cell_type": "markdown",
   "metadata": {},
   "source": [
    "### 3. Reinforcement Learning"
   ]
  },
  {
   "cell_type": "code",
   "execution_count": null,
   "metadata": {},
   "outputs": [],
   "source": [
    "class reward(SRM):\n",
    "    def __init__(self, num_input, hidden_layers, num_output, neuron_class, learning_method, reward_controller):\n",
    "        super(self.__class__, self).__init__(num_input, hidden_layers,\n",
    "                                             num_output, neuron_class, learning_method)\n",
    "        self.reward_controller = reward_controller\n",
    "\n",
    "    def solve(self, input, individual):\n",
    "        previous_layer = np.array(input)\n",
    "        for (i, layer) in enumerate(self.layers):\n",
    "            new_previous_layer = np.array([])\n",
    "            for neuron in layer:\n",
    "                neuron.reward = self.reward_controller(individual)\n",
    "                new_previous_layer = np.append(\n",
    "                    new_previous_layer, neuron.solve(previous_layer))\n",
    "            previous_layer = new_previous_layer\n",
    "        self.adjust_weights()\n",
    "        return previous_layer"
   ]
  },
  {
   "cell_type": "markdown",
   "metadata": {},
   "source": [
    "### 3. Обучение без учителя и точность полученной модели"
   ]
  },
  {
   "cell_type": "code",
   "execution_count": null,
   "metadata": {},
   "outputs": [],
   "source": []
  }
 ],
 "metadata": {
  "kernelspec": {
   "display_name": "Python 3",
   "language": "python",
   "name": "python3"
  },
  "language_info": {
   "codemirror_mode": {
    "name": "ipython",
    "version": 3
   },
   "file_extension": ".py",
   "mimetype": "text/x-python",
   "name": "python",
   "nbconvert_exporter": "python",
   "pygments_lexer": "ipython3",
   "version": "3.7.4"
  }
 },
 "nbformat": 4,
 "nbformat_minor": 2
}
